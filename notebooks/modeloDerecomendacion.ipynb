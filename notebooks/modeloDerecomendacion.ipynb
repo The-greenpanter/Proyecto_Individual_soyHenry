{
 "cells": [
  {
   "cell_type": "code",
   "execution_count": 3,
   "metadata": {},
   "outputs": [
    {
     "ename": "NameError",
     "evalue": "name 'app' is not defined",
     "output_type": "error",
     "traceback": [
      "\u001b[0;31m---------------------------------------------------------------------------\u001b[0m",
      "\u001b[0;31mNameError\u001b[0m                                 Traceback (most recent call last)",
      "Cell \u001b[0;32mIn[3], line 29\u001b[0m\n\u001b[1;32m     26\u001b[0m     \u001b[38;5;28;01mreturn\u001b[39;00m modelo_knn, tfidf_matrix\n\u001b[1;32m     28\u001b[0m \u001b[38;5;66;03m# Entrenar el modelo KNN durante la carga del dataset\u001b[39;00m\n\u001b[0;32m---> 29\u001b[0m \u001b[38;5;129m@app\u001b[39m\u001b[38;5;241m.\u001b[39mon_event(\u001b[38;5;124m\"\u001b[39m\u001b[38;5;124mstartup\u001b[39m\u001b[38;5;124m\"\u001b[39m)\n\u001b[1;32m     30\u001b[0m \u001b[38;5;28;01masync\u001b[39;00m \u001b[38;5;28;01mdef\u001b[39;00m \u001b[38;5;21mstartup_event\u001b[39m():\n\u001b[1;32m     31\u001b[0m     \u001b[38;5;28;01mglobal\u001b[39;00m df, modelo_knn, tfidf_matrix\n\u001b[1;32m     32\u001b[0m     df \u001b[38;5;241m=\u001b[39m pd\u001b[38;5;241m.\u001b[39mread_csv(\u001b[38;5;124m'\u001b[39m\u001b[38;5;124m../data/ReadytoETA.csv\u001b[39m\u001b[38;5;124m'\u001b[39m)\n",
      "\u001b[0;31mNameError\u001b[0m: name 'app' is not defined"
     ]
    }
   ],
   "source": [
    "from sklearn.feature_extraction.text import TfidfVectorizer\n",
    "from sklearn.neighbors import NearestNeighbors\n",
    "import pandas as pd\n",
    "\n",
    "# Vectorización de géneros y descripción (puedes agregar más características)\n",
    "def preprocesar_datos(df):\n",
    "    # Rellenar valores NaN\n",
    "    df['genres'] = df['genres'].fillna('')\n",
    "    df['overview'] = df['overview'].fillna('')\n",
    "    \n",
    "    # Crear una representación numérica de los géneros\n",
    "    tfidf = TfidfVectorizer(stop_words='english')\n",
    "    tfidf_matrix = tfidf.fit_transform(df['genres'] + \" \" + df['overview'])\n",
    "    \n",
    "    return tfidf_matrix\n",
    "\n",
    "# Cargar datos y entrenar modelo KNN\n",
    "def entrenar_modelo_knn(df):\n",
    "    # Preprocesar datos\n",
    "    tfidf_matrix = preprocesar_datos(df)\n",
    "    \n",
    "    # Entrenar el modelo KNN\n",
    "    modelo_knn = NearestNeighbors(metric='cosine', algorithm='brute')\n",
    "    modelo_knn.fit(tfidf_matrix)\n",
    "    \n",
    "    return modelo_knn, tfidf_matrix\n",
    "\n",
    "# Entrenar el modelo KNN durante la carga del dataset\n",
    "@app.on_event(\"startup\")\n",
    "async def startup_event():\n",
    "    global df, modelo_knn, tfidf_matrix\n",
    "    df = pd.read_csv('../data/ReadytoETA.csv')\n",
    "    df['release_date'] = pd.to_datetime(df['release_date'], errors='coerce')\n",
    "    modelo_knn, tfidf_matrix = entrenar_modelo_knn(df)"
   ]
  }
 ],
 "metadata": {
  "kernelspec": {
   "display_name": "PI-venv",
   "language": "python",
   "name": "python3"
  },
  "language_info": {
   "codemirror_mode": {
    "name": "ipython",
    "version": 3
   },
   "file_extension": ".py",
   "mimetype": "text/x-python",
   "name": "python",
   "nbconvert_exporter": "python",
   "pygments_lexer": "ipython3",
   "version": "3.12.1"
  }
 },
 "nbformat": 4,
 "nbformat_minor": 2
}
