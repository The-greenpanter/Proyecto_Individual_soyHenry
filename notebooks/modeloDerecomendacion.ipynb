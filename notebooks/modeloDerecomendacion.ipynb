{
 "cells": [
  {
   "cell_type": "code",
   "execution_count": 10,
   "metadata": {},
   "outputs": [
    {
     "name": "stderr",
     "output_type": "stream",
     "text": [
      "/var/folders/n7/x0fwwp8x0jvgxqnmqjfvghqh0000gn/T/ipykernel_8626/3179394087.py:6: DtypeWarning: Columns (1) have mixed types. Specify dtype option on import or set low_memory=False.\n",
      "  df = pd.read_csv(\"../data/ReadytoETA.csv\")\n"
     ]
    },
    {
     "name": "stdout",
     "output_type": "stream",
     "text": [
      "2                        Toy Story\n",
      "115404      Penguins of Madagascar\n",
      "68466     X-Men Origins: Wolverine\n",
      "Name: title, dtype: object\n"
     ]
    }
   ],
   "source": [
    "import pandas as pd\n",
    "from sklearn.neighbors import NearestNeighbors\n",
    "from sklearn.impute import SimpleImputer\n",
    "\n",
    "# Cargar el archivo CSV\n",
    "df = pd.read_csv(\"../data/ReadytoETA.csv\")\n",
    "\n",
    "# Seleccionar las características relevantes para el modelo de recomendación\n",
    "features = df[['vote_average', 'popularity', 'runtime', 'revenue']].values\n",
    "\n",
    "# Usar SimpleImputer para rellenar los valores nulos con el promedio de cada columna\n",
    "imputer = SimpleImputer(strategy='mean')\n",
    "features_imputed = imputer.fit_transform(features)\n",
    "\n",
    "# Crear y entrenar el modelo de vecinos más cercanos (K-Nearest Neighbors)\n",
    "knn = NearestNeighbors(n_neighbors=10)\n",
    "knn.fit(features_imputed)\n",
    "\n",
    "# Encontrar las películas más similares a la primera película\n",
    "distances, indices = knn.kneighbors([features_imputed[0]])\n",
    "\n",
    "# Obtener los títulos de las películas similares\n",
    "similar_movies = df.iloc[indices[0]]['title'].drop_duplicates()\n",
    "print(similar_movies)\n"
   ]
  },
  {
   "cell_type": "code",
   "execution_count": 13,
   "metadata": {},
   "outputs": [
    {
     "name": "stderr",
     "output_type": "stream",
     "text": [
      "/var/folders/n7/x0fwwp8x0jvgxqnmqjfvghqh0000gn/T/ipykernel_8626/1810081622.py:5: DtypeWarning: Columns (1) have mixed types. Specify dtype option on import or set low_memory=False.\n",
      "  df = pd.read_csv(\"../data/ReadytoETA.csv\")\n"
     ]
    }
   ],
   "source": [
    "import pickle\n",
    "\n",
    "\n",
    "# Cargar el archivo CSV\n",
    "df = pd.read_csv(\"../data/ReadytoETA.csv\")\n",
    "\n",
    "# Seleccionar las características relevantes para el modelo de recomendación\n",
    "features = df[['vote_average', 'popularity', 'runtime', 'revenue']].values\n",
    "\n",
    "# Usar SimpleImputer para rellenar los valores nulos con el promedio de cada columna\n",
    "imputer = SimpleImputer(strategy='mean')\n",
    "features_imputed = imputer.fit_transform(features)\n",
    "\n",
    "# Crear y entrenar el modelo de vecinos más cercanos (K-Nearest Neighbors)\n",
    "knn = NearestNeighbors(n_neighbors=10)\n",
    "knn.fit(features_imputed)\n",
    "\n",
    "# Guardar el SimpleImputer y el modelo NearestNeighbors\n",
    "with open('../reports/recommendation_model.pkl', 'wb') as file:\n",
    "    pickle.dump({\n",
    "        'imputer': imputer,\n",
    "        'knn': knn\n",
    "    }, file)\n"
   ]
  },
  {
   "cell_type": "code",
   "execution_count": null,
   "metadata": {},
   "outputs": [],
   "source": [
    "'./model/recommendation_model.pkl     '"
   ]
  }
 ],
 "metadata": {
  "kernelspec": {
   "display_name": "PI-venv",
   "language": "python",
   "name": "python3"
  },
  "language_info": {
   "codemirror_mode": {
    "name": "ipython",
    "version": 3
   },
   "file_extension": ".py",
   "mimetype": "text/x-python",
   "name": "python",
   "nbconvert_exporter": "python",
   "pygments_lexer": "ipython3",
   "version": "3.12.1"
  }
 },
 "nbformat": 4,
 "nbformat_minor": 2
}
